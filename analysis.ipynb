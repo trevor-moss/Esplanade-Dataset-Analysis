{
 "cells": [
  {
   "cell_type": "code",
   "execution_count": 1,
   "metadata": {},
   "outputs": [],
   "source": [
    "import pandas as pd"
   ]
  },
  {
   "cell_type": "code",
   "execution_count": 3,
   "metadata": {},
   "outputs": [],
   "source": [
    "qualiText = pd.read_csv('Dataset/QualitativeData_Text.csv')"
   ]
  },
  {
   "cell_type": "code",
   "execution_count": 6,
   "metadata": {},
   "outputs": [
    {
     "name": "stdout",
     "output_type": "stream",
     "text": [
      "266\n"
     ]
    }
   ],
   "source": [
    "obsCoded = [None for val in range(266)]\n",
    "print(len(obsCoded))\n",
    "qualiText['obsCoded'] = obsCoded"
   ]
  },
  {
   "cell_type": "code",
   "execution_count": null,
   "metadata": {},
   "outputs": [],
   "source": [
    "qualiText_shuffled = qualiText.sample(frac= 1, random_state= 1)\n",
    "print(qualiText_shuffled)"
   ]
  },
  {
   "cell_type": "code",
   "execution_count": null,
   "metadata": {},
   "outputs": [],
   "source": [
    "def beginCodingObs():\n",
    "    count = 0\n",
    "    for inds in qualiText_shuffled.T:\n",
    "        statement = qualiText_shuffled['ObservationText'][inds]\n",
    "        print(statement)\n",
    "\n",
    "        if qualiText_shuffled['obsCoded'][inds] not in [1, 2, 3, 4, 5]:\n",
    "            codedVal = input(f'On a scale from detail-oriented (1) to big-picture (5), where do you rate the statement: {statement}')\n",
    "            if codedVal == 'Break':\n",
    "                break\n",
    "            qualiText_shuffled['obsCoded'][inds] = int(codedVal)\n",
    "        \n",
    "        print(qualiText_shuffled['obsCoded'][inds])\n",
    "        count += 1\n",
    "        print(f'count: {count}')\n",
    "        \n",
    "\n",
    "beginCodingObs()"
   ]
  },
  {
   "cell_type": "code",
   "execution_count": 57,
   "metadata": {},
   "outputs": [],
   "source": [
    "qualiText_shuffled.to_csv('trevor_Shuffled')"
   ]
  },
  {
   "cell_type": "code",
   "execution_count": 2,
   "metadata": {},
   "outputs": [],
   "source": [
    "trevorCoded = pd.read_csv('Dataset/trevor_Shuffled.csv')\n",
    "samCoded = pd.read_csv('Dataset/sam_Shuffled.csv')\n",
    "\n",
    "trevorCoded.sort_values(by= 'ObservationNum', ignore_index= True, inplace= True)\n",
    "samCoded.sort_values(by= 'ObservationNum', ignore_index= True, inplace= True)"
   ]
  },
  {
   "cell_type": "code",
   "execution_count": 3,
   "metadata": {},
   "outputs": [
    {
     "name": "stdout",
     "output_type": "stream",
     "text": [
      "2.699248120300752\n",
      "3.082706766917293\n"
     ]
    }
   ],
   "source": [
    "print(trevorCoded['obsCoded'].mean())\n",
    "print(samCoded['obsCoded'].mean())"
   ]
  },
  {
   "cell_type": "code",
   "execution_count": 5,
   "metadata": {},
   "outputs": [],
   "source": [
    "import matplotlib.pyplot as plt\n",
    "import numpy as np"
   ]
  },
  {
   "cell_type": "code",
   "execution_count": 6,
   "metadata": {},
   "outputs": [
    {
     "data": {
      "text/plain": [
       "(array([57.,  0., 78.,  0.,  0., 43.,  0., 64.,  0., 24.]),\n",
       " array([1. , 1.4, 1.8, 2.2, 2.6, 3. , 3.4, 3.8, 4.2, 4.6, 5. ]),\n",
       " <a list of 10 Patch objects>)"
      ]
     },
     "execution_count": 6,
     "metadata": {},
     "output_type": "execute_result"
    },
    {
     "data": {
      "image/png": "[encoded data removed]",
      "text/plain": [
       "<Figure size 432x288 with 1 Axes>"
      ]
     },
     "metadata": {
      "needs_background": "light"
     },
     "output_type": "display_data"
    }
   ],
   "source": [
    "plt.hist(trevorCoded['obsCoded'])"
   ]
  },
  {
   "cell_type": "code",
   "execution_count": 7,
   "metadata": {},
   "outputs": [
    {
     "data": {
      "text/plain": [
       "(array([23.,  0., 67.,  0.,  0., 72.,  0., 73.,  0., 31.]),\n",
       " array([1. , 1.4, 1.8, 2.2, 2.6, 3. , 3.4, 3.8, 4.2, 4.6, 5. ]),\n",
       " <a list of 10 Patch objects>)"
      ]
     },
     "execution_count": 7,
     "metadata": {},
     "output_type": "execute_result"
    },
    {
     "data": {
      "image/png": "[encoded data removed]",
      "text/plain": [
       "<Figure size 432x288 with 1 Axes>"
      ]
     },
     "metadata": {
      "needs_background": "light"
     },
     "output_type": "display_data"
    }
   ],
   "source": [
    "plt.hist(samCoded['obsCoded'])"
   ]
  },
  {
   "cell_type": "code",
   "execution_count": 21,
   "metadata": {},
   "outputs": [
    {
     "name": "stdout",
     "output_type": "stream",
     "text": [
      "    studentNum thinkType\n",
      "0            1    Detail\n",
      "1            2       Mix\n",
      "2            3    Detail\n",
      "3            4    Detail\n",
      "4            5       Mix\n",
      "5            6       Mix\n",
      "6            7       Big\n",
      "7            8    Detail\n",
      "8           10       Mix\n",
      "9           11       Mix\n",
      "10          12    Detail\n",
      "11          13       Mix\n",
      "12          14    Detail\n",
      "13          15       Mix\n",
      "14          16       Mix\n",
      "15          17       Mix\n",
      "16          18       Mix\n"
     ]
    }
   ],
   "source": [
    "studentKey = [[1, 'Detail'], [2, 'Mix'], [3, 'Detail'], [4, 'Detail'], [5, 'Mix'], [6, 'Mix'], [7, 'Big'], [8, 'Detail'], [10, 'Mix'], [11, 'Mix'], [12, 'Detail'], [13, 'Mix'], [14, 'Detail'], [15, 'Mix'], [16, 'Mix'], [17, 'Mix'], [18, 'Mix']]\n",
    "studentKey = pd.DataFrame(studentKey).rename(columns={0:'studentNum', 1:'thinkType'})\n",
    "print(studentKey)"
   ]
  },
  {
   "cell_type": "code",
   "execution_count": 57,
   "metadata": {},
   "outputs": [
    {
     "name": "stdout",
     "output_type": "stream",
     "text": [
      "Trevor's coded results\n",
      "style - student# - coded mean\n",
      "Detail - 1 - 3.18\n",
      "   Mix - 2 - 2.24\n",
      "Detail - 3 - 2.81\n",
      "Detail - 4 - 3.57\n",
      "   Mix - 5 - 2.64\n",
      "   Mix - 6 - 1.83\n",
      "   Big - 7 - 3.55\n",
      "Detail - 8 - 2.25\n",
      "   Mix - 10 - 2.2\n",
      "   Mix - 11 - 2.85\n",
      "Detail - 12 - 2.5\n",
      "   Mix - 13 - 2.14\n",
      "Detail - 14 - 2.69\n",
      "   Mix - 15 - 3.7\n",
      "   Mix - 16 - 4.6\n",
      "   Mix - 17 - 2.24\n",
      "   Mix - 18 - 2.45\n"
     ]
    }
   ],
   "source": [
    "print(\"Trevor's coded results\")\n",
    "print('style - student# - coded mean')\n",
    "for ind, val in enumerate(trevorCoded.groupby('StudentNum')['obsCoded'].mean()):\n",
    "    print(f'{studentKey[\"thinkType\"][ind]:>6} - {studentKey[\"studentNum\"][ind]} - {round(val, 2)}')"
   ]
  },
  {
   "cell_type": "code",
   "execution_count": 58,
   "metadata": {},
   "outputs": [
    {
     "name": "stdout",
     "output_type": "stream",
     "text": [
      "Sam's coded results\n",
      "style - student# - coded mean\n",
      "Detail - 1 - 2.82\n",
      "   Mix - 2 - 3.12\n",
      "Detail - 3 - 3.06\n",
      "Detail - 4 - 4.0\n",
      "   Mix - 5 - 2.64\n",
      "   Mix - 6 - 2.75\n",
      "   Big - 7 - 3.27\n",
      "Detail - 8 - 3.92\n",
      "   Mix - 10 - 2.47\n",
      "   Mix - 11 - 2.0\n",
      "Detail - 12 - 3.8\n",
      "   Mix - 13 - 3.29\n",
      "Detail - 14 - 3.85\n",
      "   Mix - 15 - 2.2\n",
      "   Mix - 16 - 3.0\n",
      "   Mix - 17 - 2.88\n",
      "   Mix - 18 - 3.36\n"
     ]
    }
   ],
   "source": [
    "print(\"Sam's coded results\")\n",
    "print('style - student# - coded mean')\n",
    "for ind, val in enumerate(samCoded.groupby('StudentNum')['obsCoded'].mean()):\n",
    "    print(f'{studentKey[\"thinkType\"][ind]:>6} - {studentKey[\"studentNum\"][ind]} - {round(val, 2)}')"
   ]
  },
  {
   "cell_type": "code",
   "execution_count": 90,
   "metadata": {},
   "outputs": [
    {
     "name": "stdout",
     "output_type": "stream",
     "text": [
      "diff T & S, avg 0.83\n",
      "student# - delta\n",
      " 1 - 0.36\n",
      " 2 - 0.88\n",
      " 3 - 0.25\n",
      " 4 - 0.43\n",
      " 5 - 0.0\n",
      " 6 - 0.92\n",
      " 7 - 0.27\n",
      " 8 - 1.67\n",
      "10 - 0.27\n",
      "11 - 0.85\n",
      "12 - 1.3\n",
      "13 - 1.14\n",
      "14 - 1.15\n",
      "15 - 1.5\n",
      "16 - 1.6\n",
      "17 - 0.65\n",
      "18 - 0.91\n"
     ]
    }
   ],
   "source": [
    "comp_list = []\n",
    "deltas = []\n",
    "\n",
    "for ind, val in enumerate(trevorCoded.groupby('StudentNum')['obsCoded'].mean()):\n",
    "    comp_list.append([val,'_'])\n",
    "for ind, val in enumerate(samCoded.groupby('StudentNum')['obsCoded'].mean()):\n",
    "    comp_list[ind][1] = val\n",
    "\n",
    "print('diff T & S, avg 0.83')\n",
    "print('student# - delta')\n",
    "for ind, val in enumerate(comp_list):\n",
    "    delta = round(abs(val[0] - val[1]), 2)\n",
    "    print(f'{studentKey[\"studentNum\"][ind]:>2} - {delta}')\n",
    "    deltas.append(delta)"
   ]
  },
  {
   "cell_type": "code",
   "execution_count": 85,
   "metadata": {},
   "outputs": [
    {
     "name": "stdout",
     "output_type": "stream",
     "text": [
      "0.83\n"
     ]
    }
   ],
   "source": [
    "print(round(sum(deltas)/len(deltas), 2))"
   ]
  }
 ],
 "metadata": {
  "kernelspec": {
   "display_name": "Python 3",
   "language": "python",
   "name": "python3"
  },
  "language_info": {
   "codemirror_mode": {
    "name": "ipython",
    "version": 3
   },
   "file_extension": ".py",
   "mimetype": "text/x-python",
   "name": "python",
   "nbconvert_exporter": "python",
   "pygments_lexer": "ipython3",
   "version": "3.8.3"
  }
 },
 "nbformat": 4,
 "nbformat_minor": 2
}
